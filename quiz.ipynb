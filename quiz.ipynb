{
  "nbformat": 4,
  "nbformat_minor": 0,
  "metadata": {
    "colab": {
      "provenance": [],
      "authorship_tag": "ABX9TyMdBpmJ72ygKrJuzh9TrtKd",
      "include_colab_link": true
    },
    "kernelspec": {
      "name": "python3",
      "display_name": "Python 3"
    },
    "language_info": {
      "name": "python"
    }
  },
  "cells": [
    {
      "cell_type": "markdown",
      "metadata": {
        "id": "view-in-github",
        "colab_type": "text"
      },
      "source": [
        "<a href=\"https://colab.research.google.com/github/khemsu/quiz-python/blob/main/quiz.ipynb\" target=\"_parent\"><img src=\"https://colab.research.google.com/assets/colab-badge.svg\" alt=\"Open In Colab\"/></a>"
      ]
    },
    {
      "cell_type": "code",
      "execution_count": null,
      "metadata": {
        "colab": {
          "base_uri": "https://localhost:8080/"
        },
        "id": "yGfqAXZgYnj2",
        "outputId": "f10202bd-5cf8-46c5-e541-096959321d1b"
      },
      "outputs": [
        {
          "output_type": "stream",
          "name": "stdout",
          "text": [
            "Welcome to the Python Quiz Game!\n",
            "\n",
            "Question 1: What is the output of '2 + 2' in Python?\n",
            "1. 3\n",
            "2. 4\n",
            "3. 5\n",
            "4. 6\n",
            "Enter your answer (1, 2, 3, 4): 2\n",
            "Correct!\n",
            "\n",
            "Question 2: Which of the following is not a Python data type?\n",
            "1. int\n",
            "2. string\n",
            "3. array\n",
            "4. tuple\n",
            "Enter your answer (1, 2, 3, 4): 3\n",
            "Correct!\n",
            "\n",
            "Question 3: What keyword is used to define a function in Python?\n",
            "1. func\n",
            "2. define\n",
            "3. def\n",
            "4. function\n",
            "Enter your answer (1, 2, 3, 4): 3\n",
            "Correct!\n",
            "\n",
            "Quiz completed! Your final score is: 3/3\n"
          ]
        }
      ],
      "source": [
        "questions = [\n",
        "    {\n",
        "        \"question\": \"What is the output of '2 + 2' in Python?\",\n",
        "        \"options\": [\"3\", \"4\", \"5\", \"6\"],\n",
        "        \"answer\": \"2\"\n",
        "    },\n",
        "    {\n",
        "        \"question\": \"Which of the following is not a Python data type?\",\n",
        "        \"options\": [\"int\", \"string\", \"array\", \"tuple\"],\n",
        "        \"answer\": \"3\"\n",
        "    },\n",
        "    {\n",
        "        \"question\": \"What keyword is used to define a function in Python?\",\n",
        "        \"options\": [\"func\", \"define\", \"def\", \"function\"],\n",
        "        \"answer\": \"3\"\n",
        "    }\n",
        "    # Add more questions here\n",
        "]\n",
        "\n",
        "score = 0\n",
        "\n",
        "print(\"Welcome to the Python Quiz Game!\")\n",
        "\n",
        "for i, q in enumerate(questions):\n",
        "    print(f\"\\nQuestion {i+1}: {q['question']}\")\n",
        "    for j, option in enumerate(q['options']):\n",
        "        print(f\"{j+1}. {option}\")\n",
        "    user_input = input(\"Enter your answer (1, 2, 3, 4): \")\n",
        "    if user_input == q['answer']:\n",
        "        print(\"Correct!\")\n",
        "        score += 1\n",
        "    else:\n",
        "        print(\"Incorrect!\")\n",
        "\n",
        "print(f\"\\nQuiz completed! Your final score is: {score}/{len(questions)}\")\n",
        "\n"
      ]
    },
    {
      "cell_type": "code",
      "source": [],
      "metadata": {
        "id": "ldRCo8f1ZqPf"
      },
      "execution_count": null,
      "outputs": []
    }
  ]
}